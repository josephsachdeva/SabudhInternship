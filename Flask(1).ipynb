{
 "cells": [
  {
   "cell_type": "code",
   "execution_count": 1,
   "metadata": {},
   "outputs": [
    {
     "name": "stdout",
     "output_type": "stream",
     "text": [
      "    class  index    name  roll\n",
      "0   first      1     tom     1\n",
      "1  second      2     hon     2\n",
      "2   third      3  harray     3\n"
     ]
    }
   ],
   "source": [
    "#csv code\n",
    "import  pandas as pd\n",
    "index = [1,2,3]\n",
    "roll_values =[1,2,3]\n",
    "Name = [\"tom\",\"hon\",\"harray\"]\n",
    "Class = [\"first\",\"second\",\"third\"]\n",
    "df = pd.DataFrame({\"index\":index,\"roll\":roll_values,\"name\":Name,\"class\":Class})\n",
    "print(df)\n",
    "df.to_csv(\"out.csv\")"
   ]
  },
  {
   "cell_type": "code",
   "execution_count": 2,
   "metadata": {},
   "outputs": [],
   "source": [
    "import pandas as pd\n",
    "import json\n",
    "from flask import Flask,request,jsonify\n",
    "app=Flask(__name__)\n",
    "\n",
    "@app.route(\"/\",methods=['GET']) # 'http::/www.google.com/'\n",
    "def hom():\n",
    "    df=pd.read_csv(\"out.csv\")\n",
    "    new_dict=df.to_dict(\"index\")\n",
    "    abc= list(new_dict.values())\n",
    "    return json.dumps(abc)\n",
    "\n",
    "@app.route('/',methods=[\"POST\"])\n",
    "def insert():\n",
    "    data=request.get_json()\n",
    "    df=pd.read_csv('out.csv')\n",
    "    list_of_df=list(df.to_dict('index').values())\n",
    "    created_data={}\n",
    "    created_data['index'] = (list_of_df[-1][\"index\"]+1)\n",
    "    combined_data={**created_data,**data}\n",
    "    df=df.append(combined_data,ignore_index=True)\n",
    "    print(df)\n",
    "    df.to_csv(r'out.csv',index=None,header=True)\n",
    "    return jsonify({\"index\":created_data[\"index\"]})\n",
    "\n",
    "@app.route('/',methods=[\"PUT\"])\n",
    "def update():\n",
    "    data=request.get_json()\n",
    "    df=pd.read_csv(\"out.csv\")\n",
    "    df.loc[df[\"index\"] == data[\"index\"], ['name','roll',\"class\"]] = data['name'],data['roll'],data[\"class\"]\n",
    "    df.to_csv(r'out.csv',index=None,header=True)\n",
    "    return jsonify({\"index\":data[\"index\"]})\n",
    "\n",
    "@app.route('/',methods=[\"DELETE\"])\n",
    "def delete():\n",
    "    data=request.get_json()\n",
    "    df=pd.read_csv(\"out.csv\")\n",
    "    df= df[df[\"index\"]!= data['index']]\n",
    "    df.to_csv(r'out.csv',index=None,header=True)\n",
    "    return jsonify({\"index\":data[\"index\"]})\n",
    "\n",
    "@app.route('/<dell>',methods=[\"GET\"])\n",
    "def dellll(dell):\n",
    "    df = pd.read_csv(\"out.csv\")             # directly get the row by using argument dell \n",
    "    lm = df[df['index'] == int(dell)]\n",
    "    print(lm)\n",
    "    new_dict = lm.to_dict(\"index\")\n",
    "    abc = list(new_dict.values())\n",
    "    return json.dumps(abc)"
   ]
  },
  {
   "cell_type": "code",
   "execution_count": 90,
   "metadata": {},
   "outputs": [
    {
     "name": "stderr",
     "output_type": "stream",
     "text": [
      " * Running on http://127.0.0.1:5000/ (Press CTRL+C to quit)\n",
      "127.0.0.1 - - [29/Jan/2019 12:22:29] \"\u001b[37mPOST /get HTTP/1.1\u001b[0m\" 200 -\n"
     ]
    }
   ],
   "source": [
    "if __name__ == '__main__':\n",
    "    app.run()"
   ]
  },
  {
   "cell_type": "code",
   "execution_count": null,
   "metadata": {},
   "outputs": [],
   "source": []
  }
 ],
 "metadata": {
  "kernelspec": {
   "display_name": "Python 3",
   "language": "python",
   "name": "python3"
  },
  "language_info": {
   "codemirror_mode": {
    "name": "ipython",
    "version": 3
   },
   "file_extension": ".py",
   "mimetype": "text/x-python",
   "name": "python",
   "nbconvert_exporter": "python",
   "pygments_lexer": "ipython3",
   "version": "3.6.4"
  }
 },
 "nbformat": 4,
 "nbformat_minor": 2
}
