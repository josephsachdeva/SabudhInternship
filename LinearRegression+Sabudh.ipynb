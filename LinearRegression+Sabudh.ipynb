{
 "cells": [
  {
   "cell_type": "code",
   "execution_count": 1,
   "metadata": {
    "collapsed": true
   },
   "outputs": [],
   "source": [
    "import numpy as np\n",
    "import matplotlib.pyplot as plt"
   ]
  },
  {
   "cell_type": "code",
   "execution_count": 2,
   "metadata": {
    "collapsed": true
   },
   "outputs": [],
   "source": [
    "n = 50"
   ]
  },
  {
   "cell_type": "code",
   "execution_count": 3,
   "metadata": {
    "collapsed": true
   },
   "outputs": [],
   "source": [
    "def generateXData(n):\n",
    "    '''#addition = np.add(randoms1, randoms2)\n",
    "    #n=1000\n",
    "    addition = np.zeros(n)\n",
    "    #nr = 20\n",
    "    for y in range(nr):\n",
    "        randoms = [int(random.random()*1000) for i in range(n)] #generating uniform distributions\n",
    "        for x in range(n):\n",
    "            addition[x] = addition[x]+randoms[x] #adding two uniform distributions\n",
    "    plt.hist(addition, bins=100)\n",
    "    plt.show()'''\n",
    "    \n",
    "    #using numpy to generate Gaussian Random numbers\n",
    "    X = np.random.random(size=n)*10\n",
    "    return X"
   ]
  },
  {
   "cell_type": "code",
   "execution_count": 4,
   "metadata": {
    "collapsed": true
   },
   "outputs": [],
   "source": [
    "def generateEData(n):\n",
    "    E = np.random.normal(loc=np.random.randint(n), size=n)/10\n",
    "    \n",
    "    return E"
   ]
  },
  {
   "cell_type": "code",
   "execution_count": 5,
   "metadata": {},
   "outputs": [
    {
     "data": {
      "text/plain": [
       "'plt.hist(Y, bins = 50)\\nplt.show()'"
      ]
     },
     "execution_count": 5,
     "metadata": {},
     "output_type": "execute_result"
    }
   ],
   "source": [
    "#X = np.array(X)\n",
    "'''import matplotlib.pyplot as plt\n",
    "plt.hist(X, bins = 50)\n",
    "plt.show()'''\n",
    "\n",
    "'''plt.hist(Y, bins = 50)\n",
    "plt.show()'''"
   ]
  },
  {
   "cell_type": "code",
   "execution_count": 6,
   "metadata": {
    "collapsed": true
   },
   "outputs": [],
   "source": [
    "def LinearRegression(X, Y):\n",
    "    #X = X.astype(int)\n",
    "    #Y = Y.astype(int)\n",
    "    \n",
    "    \n",
    "    return 1"
   ]
  },
  {
   "cell_type": "code",
   "execution_count": 7,
   "metadata": {
    "collapsed": true
   },
   "outputs": [],
   "source": [
    "def plotscatter(X, E):\n",
    "    plt.scatter(X, E)\n",
    "    plt.show()"
   ]
  },
  {
   "cell_type": "code",
   "execution_count": 8,
   "metadata": {
    "collapsed": true
   },
   "outputs": [],
   "source": [
    "X = generateXData(n)\n",
    "E = generateEData(n)"
   ]
  },
  {
   "cell_type": "code",
   "execution_count": 9,
   "metadata": {},
   "outputs": [
    {
     "data": {
      "image/png": "[encoded data removed]",
      "text/plain": [
       "<matplotlib.figure.Figure at 0x16b365d0668>"
      ]
     },
     "metadata": {},
     "output_type": "display_data"
    }
   ],
   "source": [
    "plotscatter(X, E)"
   ]
  },
  {
   "cell_type": "code",
   "execution_count": 10,
   "metadata": {},
   "outputs": [
    {
     "name": "stdout",
     "output_type": "stream",
     "text": [
      "5 0.6992437664537193\n"
     ]
    }
   ],
   "source": [
    "c = 5\n",
    "m = np.random.random()\n",
    "print(c, m)"
   ]
  },
  {
   "cell_type": "code",
   "execution_count": 11,
   "metadata": {
    "collapsed": true
   },
   "outputs": [],
   "source": [
    "def calculate_y_from_e(X, E, c, m):\n",
    "    Y = c + m*X + E\n",
    "    print(max(X), min(X))\n",
    "    print(max(E), min(E))\n",
    "    return Y"
   ]
  },
  {
   "cell_type": "code",
   "execution_count": 12,
   "metadata": {},
   "outputs": [
    {
     "name": "stdout",
     "output_type": "stream",
     "text": [
      "9.96466047033 0.418619945556\n",
      "0.287314673483 -0.10105649774\n"
     ]
    },
    {
     "data": {
      "text/plain": [
       "array([  9.81245251,  11.51056905,  12.10734036,   6.02931806,\n",
       "         6.38986526,   8.32828711,   6.02518823,   5.5322093 ,\n",
       "        10.53056244,   7.74742206,  10.67080071,  11.51469726,\n",
       "         8.44711829,  11.47529375,   8.61006917,   8.12577841,\n",
       "         6.45211192,   8.94650174,  11.38245945,   7.77069228,\n",
       "         6.75753385,   6.02645404,  11.91520616,   5.50068549,\n",
       "         7.92650587,   7.16622695,   5.965103  ,   9.91153075,\n",
       "         6.16350292,  10.86838329,   7.507212  ,  11.34483238,\n",
       "         6.20270842,  10.10223325,  10.1151057 ,   9.13422447,\n",
       "         8.21202773,   9.56943561,  11.54423384,   6.59850561,\n",
       "         8.03790058,   7.7145833 ,   6.04585213,  12.05718355,\n",
       "         5.93598714,  11.26762955,   6.40283774,   6.71437135,\n",
       "         7.23624354,  10.98807117])"
      ]
     },
     "execution_count": 12,
     "metadata": {},
     "output_type": "execute_result"
    }
   ],
   "source": [
    "Y = calculate_y_from_e(X, E, c, m)\n",
    "Y"
   ]
  },
  {
   "cell_type": "code",
   "execution_count": 13,
   "metadata": {},
   "outputs": [
    {
     "data": {
      "image/png": "[encoded data removed]",
      "text/plain": [
       "<matplotlib.figure.Figure at 0x16b366f3978>"
      ]
     },
     "metadata": {},
     "output_type": "display_data"
    }
   ],
   "source": [
    "plotscatter(X, Y)"
   ]
  },
  {
   "cell_type": "code",
   "execution_count": 14,
   "metadata": {},
   "outputs": [
    {
     "name": "stdout",
     "output_type": "stream",
     "text": [
      "0.30460020072724026 2\n"
     ]
    }
   ],
   "source": [
    "rm = np.random.random()\n",
    "rc = np.random.randint(9)\n",
    "print(rm, rc)"
   ]
  },
  {
   "cell_type": "code",
   "execution_count": 15,
   "metadata": {
    "collapsed": true
   },
   "outputs": [],
   "source": [
    "#manipulating m and c through gradient descent\n",
    "def gradient_descent(X, Y, n, c, m):\n",
    "    lam = 0.001\n",
    "    #em = m\n",
    "    #ec = c\n",
    "    #while(em > 0.1 and ec > 5):\n",
    "    for i in range(20000):\n",
    "#     em = m\n",
    "#     ec = c\n",
    "#     while(True):\n",
    "        calm = (m*X + c - Y)*X\n",
    "        dcdm = np.sum(calm)/n\n",
    "        m = m - lam*dcdm\n",
    "#         em = em - m\n",
    "        \n",
    "        calc = (m*X + c - Y)\n",
    "        dcdc = np.sum(calc)/n\n",
    "        c = c - lam*dcdc\n",
    "#         ec = ec - c\n",
    "#         if(em < 0.3 and ec < 0.7):\n",
    "#             break\n",
    "    return c, m\n"
   ]
  },
  {
   "cell_type": "code",
   "execution_count": 16,
   "metadata": {},
   "outputs": [
    {
     "name": "stdout",
     "output_type": "stream",
     "text": [
      "5.13739555079 0.691939187385\n"
     ]
    }
   ],
   "source": [
    "c, m = gradient_descent(X, Y, n, rc, rm)\n",
    "print(c, m)"
   ]
  },
  {
   "cell_type": "code",
   "execution_count": 17,
   "metadata": {
    "collapsed": true
   },
   "outputs": [],
   "source": [
    "def plot_regression_line(X, Y, c, m): \n",
    "    # plotting the actual points as scatter plot \n",
    "    plt.scatter(X, Y, marker = \"o\", s = 30) \n",
    "  \n",
    "    # predicted response vector \n",
    "    y_pred = c + m*X \n",
    "  \n",
    "    # plotting the regression line \n",
    "    plt.plot(X, y_pred, color = \"g\") \n",
    "  \n",
    "    # putting labels \n",
    "    plt.xlabel('x') \n",
    "    plt.ylabel('y') \n",
    "    plt.show()"
   ]
  },
  {
   "cell_type": "code",
   "execution_count": 18,
   "metadata": {},
   "outputs": [
    {
     "data": {
      "image/png": "[encoded data removed]",
      "text/plain": [
       "<matplotlib.figure.Figure at 0x16b36a4b9e8>"
      ]
     },
     "metadata": {},
     "output_type": "display_data"
    }
   ],
   "source": [
    "plot_regression_line(X, Y, c, m)"
   ]
  },
  {
   "cell_type": "code",
   "execution_count": 19,
   "metadata": {
    "collapsed": true
   },
   "outputs": [],
   "source": [
    "#it is using a direct function\n",
    "def calculatecm(X, Y, n):\n",
    "    xm = np.mean(X)\n",
    "    ym = np.mean(Y)\n",
    "    ssxy = np.sum(X*Y) - n*xm*ym\n",
    "    ssxx = np.sum(X**2) - n*(xm**2)\n",
    "    \n",
    "    m = ssxy/ssxx\n",
    "    c = ym - m*xm\n",
    "    \n",
    "    return c, m"
   ]
  },
  {
   "cell_type": "code",
   "execution_count": 20,
   "metadata": {},
   "outputs": [
    {
     "name": "stdout",
     "output_type": "stream",
     "text": [
      "5.15060380104 0.689995936107\n"
     ]
    }
   ],
   "source": [
    "c, m = calculatecm(X, Y, n)\n",
    "print(c, m)"
   ]
  },
  {
   "cell_type": "code",
   "execution_count": 21,
   "metadata": {},
   "outputs": [
    {
     "data": {
      "image/png": "[encoded data removed]",
      "text/plain": [
       "<matplotlib.figure.Figure at 0x16b36aa0470>"
      ]
     },
     "metadata": {},
     "output_type": "display_data"
    }
   ],
   "source": [
    "plot_regression_line(X, Y, c, m)"
   ]
  },
  {
   "cell_type": "code",
   "execution_count": 22,
   "metadata": {
    "collapsed": true
   },
   "outputs": [],
   "source": [
    "#finidng (theta) from normal equation of linear regression\n",
    "def theta(X, Y, n):\n",
    "    mX = np.matrix(X)\n",
    "    z = np.ones((n, 1))\n",
    "    mX = np.transpose(mX)\n",
    "    X = np.append(mX, z, axis=1)\n",
    "#     print(X.shape)\n",
    "    trans = np.transpose(X)\n",
    "#     print(trans.shape)\n",
    "    prod = trans * X\n",
    "#     print(prod.shape)\n",
    "    inverse = np.linalg.inv(prod)\n",
    "    Y = Y.reshape(50, 1)\n",
    "    xty = trans * Y\n",
    "    theta = inverse.dot(xty)\n",
    "    \n",
    "    return theta"
   ]
  },
  {
   "cell_type": "code",
   "execution_count": 23,
   "metadata": {
    "collapsed": true,
    "scrolled": true
   },
   "outputs": [],
   "source": [
    "thet = theta(X, Y, n)"
   ]
  },
  {
   "cell_type": "code",
   "execution_count": 24,
   "metadata": {},
   "outputs": [
    {
     "name": "stdout",
     "output_type": "stream",
     "text": [
      "[[ 0.68999594]\n",
      " [ 5.1506038 ]] 5.15060380104 0.689995936107\n"
     ]
    }
   ],
   "source": [
    "print(thet, c, m)"
   ]
  },
  {
   "cell_type": "code",
   "execution_count": null,
   "metadata": {
    "collapsed": true
   },
   "outputs": [],
   "source": []
  },
  {
   "cell_type": "code",
   "execution_count": 25,
   "metadata": {
    "collapsed": true
   },
   "outputs": [],
   "source": [
    "#same above problem with n dimensional X\n",
    "def generateMultiXData(m, n):\n",
    "    X = np.random.random((m, n))*10\n",
    "    return X"
   ]
  },
  {
   "cell_type": "code",
   "execution_count": 26,
   "metadata": {
    "collapsed": true
   },
   "outputs": [],
   "source": [
    "X = generateMultiXData(10, 5)"
   ]
  },
  {
   "cell_type": "code",
   "execution_count": 27,
   "metadata": {},
   "outputs": [
    {
     "data": {
      "text/plain": [
       "array([[ 5.40367223,  5.4627504 ,  7.65806369,  5.16078866,  3.52182401],\n",
       "       [ 2.4544723 ,  3.06725109,  6.61903163,  0.49678087,  6.27704845],\n",
       "       [ 6.90339089,  6.06308909,  7.37416206,  9.84422775,  8.09560016],\n",
       "       [ 3.62900463,  4.38834597,  1.46804614,  8.79036739,  8.33623627],\n",
       "       [ 6.8029808 ,  6.25866061,  6.05662115,  2.98034028,  7.06434451],\n",
       "       [ 8.4643015 ,  6.27940161,  2.76358759,  8.41522886,  0.27854765],\n",
       "       [ 5.14190194,  8.89600599,  0.94757555,  2.38604253,  4.24279893],\n",
       "       [ 2.49848446,  9.71889183,  6.81864668,  4.36833433,  2.10135038],\n",
       "       [ 6.7667849 ,  1.02184362,  5.93689449,  2.81543642,  3.48315512],\n",
       "       [ 3.68680586,  4.00550188,  9.28312869,  0.33396262,  5.97319055]])"
      ]
     },
     "execution_count": 27,
     "metadata": {},
     "output_type": "execute_result"
    }
   ],
   "source": [
    "X"
   ]
  },
  {
   "cell_type": "code",
   "execution_count": 28,
   "metadata": {},
   "outputs": [
    {
     "name": "stdout",
     "output_type": "stream",
     "text": [
      "7 [ 0.66365698  0.74680144  0.52947203  0.73138     0.33969446]\n"
     ]
    }
   ],
   "source": [
    "multiM = np.random.random(size=(5)) #calculate slope for each column\n",
    "multiM.shape\n",
    "multiC = np.random.randint(9) #calculate constant for each column\n",
    "print(multiC, multiM)"
   ]
  },
  {
   "cell_type": "code",
   "execution_count": 29,
   "metadata": {
    "collapsed": true
   },
   "outputs": [],
   "source": [
    "def generateMultiEData(m, n):\n",
    "    E = np.random.normal(loc=np.random.randint(n), size=(m, n))/10\n",
    "    return E"
   ]
  },
  {
   "cell_type": "code",
   "execution_count": 30,
   "metadata": {},
   "outputs": [
    {
     "data": {
      "text/plain": [
       "(10, 1)"
      ]
     },
     "execution_count": 30,
     "metadata": {},
     "output_type": "execute_result"
    }
   ],
   "source": [
    "E = generateMultiEData(10, 1)\n",
    "E.shape"
   ]
  },
  {
   "cell_type": "code",
   "execution_count": 31,
   "metadata": {},
   "outputs": [
    {
     "data": {
      "text/plain": [
       "(10, 5)"
      ]
     },
     "execution_count": 31,
     "metadata": {},
     "output_type": "execute_result"
    }
   ],
   "source": [
    "X.shape"
   ]
  },
  {
   "cell_type": "code",
   "execution_count": 32,
   "metadata": {
    "collapsed": true
   },
   "outputs": [],
   "source": [
    "def multi_calculate_y_from_e(X, E, multiC, multiM):\n",
    "    Y = multiC + np.matmul(X,multiM.reshape(5,1)) + E\n",
    "#     print(max(X), min(X))\n",
    "#     print(max(E), min(E))\n",
    "    return Y"
   ]
  },
  {
   "cell_type": "code",
   "execution_count": 33,
   "metadata": {
    "collapsed": true,
    "scrolled": true
   },
   "outputs": [],
   "source": [
    "Y = multi_calculate_y_from_e(X, E, multiC, multiM)"
   ]
  },
  {
   "cell_type": "code",
   "execution_count": 34,
   "metadata": {},
   "outputs": [
    {
     "data": {
      "text/plain": [
       "(10, 1)"
      ]
     },
     "execution_count": 34,
     "metadata": {},
     "output_type": "execute_result"
    }
   ],
   "source": [
    "Y.shape"
   ]
  },
  {
   "cell_type": "code",
   "execution_count": 152,
   "metadata": {
    "collapsed": true
   },
   "outputs": [],
   "source": [
    "#plotscatter(X, Y)"
   ]
  },
  {
   "cell_type": "code",
   "execution_count": 39,
   "metadata": {
    "collapsed": true
   },
   "outputs": [],
   "source": [
    "def multi_gradient_descent(X, Y, m, n, multiC, multiM):\n",
    "    lam = 0.001\n",
    "    #em = m\n",
    "    #ec = c\n",
    "    #while(em > 0.1 and ec > 5):\n",
    "    for i in range(1000):\n",
    "#     em = m\n",
    "#     ec = c\n",
    "#     while(True):\n",
    "        calm = (multiM*X + multiC - Y)*X\n",
    "        dcdm = np.sum(calm)/n\n",
    "        multiM = multiM - lam*dcdm\n",
    "#         em = em - m\n",
    "        \n",
    "        calc = (multiM*X + multiC - Y)\n",
    "        dcdc = np.sum(calc)/n\n",
    "        multiC = multiC - lam*dcdc\n",
    "#         ec = ec - c\n",
    "#         if(em < 0.3 and ec < 0.7):\n",
    "#             break\n",
    "    return multiC, multiM\n"
   ]
  },
  {
   "cell_type": "code",
   "execution_count": 40,
   "metadata": {},
   "outputs": [
    {
     "name": "stdout",
     "output_type": "stream",
     "text": [
      "19.8923096552 [ 0.55848354  0.641628    0.4242986   0.62620656  0.23452102]\n"
     ]
    }
   ],
   "source": [
    "multiC, multiM = multi_gradient_descent(X, Y, 4, 5, multiC, multiM)\n",
    "print(multiC, multiM)\n",
    "\n",
    "#0.66365698  0.74680144  0.52947203  0.73138     0.33969446]\n"
   ]
  },
  {
   "cell_type": "code",
   "execution_count": 151,
   "metadata": {
    "collapsed": true
   },
   "outputs": [],
   "source": [
    "#plot_regression_line(X, Y, multiC, multiM)"
   ]
  },
  {
   "cell_type": "code",
   "execution_count": 65,
   "metadata": {},
   "outputs": [
    {
     "name": "stdout",
     "output_type": "stream",
     "text": [
      "(10, 1) (10, 5) [[ 5.40367223  5.4627504   7.65806369  5.16078866  3.52182401]\n",
      " [ 2.4544723   3.06725109  6.61903163  0.49678087  6.27704845]\n",
      " [ 6.90339089  6.06308909  7.37416206  9.84422775  8.09560016]\n",
      " [ 3.62900463  4.38834597  1.46804614  8.79036739  8.33623627]\n",
      " [ 6.8029808   6.25866061  6.05662115  2.98034028  7.06434451]\n",
      " [ 8.4643015   6.27940161  2.76358759  8.41522886  0.27854765]\n",
      " [ 5.14190194  8.89600599  0.94757555  2.38604253  4.24279893]\n",
      " [ 2.49848446  9.71889183  6.81864668  4.36833433  2.10135038]\n",
      " [ 6.7667849   1.02184362  5.93689449  2.81543642  3.48315512]\n",
      " [ 3.68680586  4.00550188  9.28312869  0.33396262  5.97319055]]\n"
     ]
    }
   ],
   "source": [
    "print(Y.shape, X.shape, X)"
   ]
  },
  {
   "cell_type": "code",
   "execution_count": 154,
   "metadata": {
    "collapsed": true
   },
   "outputs": [],
   "source": [
    "#Normal equation for linear regression is: theta = (inverse(T(X)*X)) * (T(X)*Y), where T(X) = transpose of X\n",
    "def multitheta(X, Y, row, column):\n",
    "    z = np.ones((row, 1))\n",
    "    X = np.append(z, X, axis=1)\n",
    "    trans = np.transpose(X)\n",
    "    inverse = np.linalg.inv(trans.dot(X))\n",
    "    theta = inverse.dot(trans.dot(Y))\n",
    "    \n",
    "    return theta"
   ]
  },
  {
   "cell_type": "code",
   "execution_count": 155,
   "metadata": {
    "collapsed": true
   },
   "outputs": [],
   "source": [
    "row = 10\n",
    "column = 5"
   ]
  },
  {
   "cell_type": "code",
   "execution_count": 156,
   "metadata": {},
   "outputs": [
    {
     "name": "stdout",
     "output_type": "stream",
     "text": [
      "[[ 6.96930397]\n",
      " [ 0.65494796]\n",
      " [ 0.75823745]\n",
      " [ 0.53847321]\n",
      " [ 0.72372738]\n",
      " [ 0.33385313]]\n"
     ]
    }
   ],
   "source": [
    "theta = multitheta(X, Y, 10, 5)\n",
    "\n",
    "#Actual Values - 'c = 7' and 'm = [ 0.66365698  0.74680144  0.52947203  0.73138     0.33969446]'\n",
    "\n",
    "print(theta)"
   ]
  },
  {
   "cell_type": "code",
   "execution_count": null,
   "metadata": {
    "collapsed": true
   },
   "outputs": [],
   "source": []
  },
  {
   "cell_type": "code",
   "execution_count": null,
   "metadata": {
    "collapsed": true
   },
   "outputs": [],
   "source": []
  }
 ],
 "metadata": {
  "kernelspec": {
   "display_name": "Python 3",
   "language": "python",
   "name": "python3"
  },
  "language_info": {
   "codemirror_mode": {
    "name": "ipython",
    "version": 3
   },
   "file_extension": ".py",
   "mimetype": "text/x-python",
   "name": "python",
   "nbconvert_exporter": "python",
   "pygments_lexer": "ipython3",
   "version": "3.6.3"
  }
 },
 "nbformat": 4,
 "nbformat_minor": 2
}
